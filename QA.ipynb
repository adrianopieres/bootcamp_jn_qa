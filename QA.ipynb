{
 "cells": [
  {
   "cell_type": "code",
   "execution_count": null,
   "metadata": {},
   "outputs": [],
   "source": [
    "__author__ = 'Adriano Pieres <adriano.pieres@linea.gov.br, LIneA Team'\n",
    "__version__ = '20190829' # yyyymmdd\n",
    "__datasets__ = ''\n",
    "__keywords__ = ['Jupyter','Python','QA','tutorial']"
   ]
  },
  {
   "cell_type": "markdown",
   "metadata": {},
   "source": [
    "# 15 - Creating JN for Quality Assurance\n",
    "\n",
    "## LIneA Bootcamp\n",
    "\n",
    "**Contact person:** Adriano Pieres [adriano.pieres@linea.gov.br]\n",
    "\n",
    "**Last verified run:** 28-Aug-2019\n",
    "\n",
    "\n",
    "This notebook aims to show the properties of a small region of the DESDR1 catalog.\n",
    "The star/galaxy separator is shown, determine completeness regarding any other survey,\n",
    "as DES data to HSC, 2MASS, PanSTARRS and Gaia.\n",
    "\n",
    "See more information about `DES-DR1 data` and its related papers on:\n",
    "\n",
    "https://www.darkenergysurvey.org/dr1-data-release-papers/\n",
    "\n",
    "Firstly, the imports and setups:"
   ]
  },
  {
   "cell_type": "code",
   "execution_count": null,
   "metadata": {},
   "outputs": [],
   "source": [
    "%matplotlib inline\n",
    "import numpy as np\n",
    "import matplotlib\n",
    "import matplotlib.pyplot as plt\n",
    "import healpy as hp\n",
    "import os\n",
    "from astropy.io import fits\n",
    "from astropy.coordinates import SkyCoord\n",
    "from astropy import units as u\n",
    "from matplotlib.colors import LogNorm\n",
    "from matplotlib import rcParams\n",
    "# Set uniform colormaps: magma, viridis, plasma, inferno\n",
    "cmap = matplotlib.cm.get_cmap(\"inferno\")\n",
    "cmap.set_under('darkgray')\n",
    "cmap.set_bad('darkgray')\n",
    "matplotlib.rc('xtick', labelsize=8) \n",
    "matplotlib.rc('ytick', labelsize=8) "
   ]
  },
  {
   "cell_type": "markdown",
   "metadata": {},
   "source": [
    "Reading a small region of the sky:"
   ]
  },
  {
   "cell_type": "code",
   "execution_count": null,
   "metadata": {},
   "outputs": [],
   "source": [
    "filename = '/archive/user/adriano.pieres/bootcamp_2019/DES_DR1_g24.fits'  \n",
    "hdulist = fits.open(filename)\n",
    "catalog = hdulist[1].data\n",
    "print(catalog.columns)"
   ]
  },
  {
   "cell_type": "markdown",
   "metadata": {},
   "source": [
    "Basically the catalog contains the position (ra, dec), _griz_ magnitudes and errors, and the star-galaxy classifier spread_model (sm) in three bands. All the sources are limited to _g=24._ \n",
    "<br>\n",
    "The magnitudes listed are the MAG_PSF magnitudes, or the aperture flux fit with a Point Spread Function.\n",
    "See more details in the SExtractor Manual:\n",
    "<br>\n",
    "http://astroa.physics.metu.edu.tr/MANUALS/sextractor/Guide2source_extractor.pdf\n",
    "<br>\n",
    "Let's read the columns of the catalog:"
   ]
  },
  {
   "cell_type": "code",
   "execution_count": null,
   "metadata": {},
   "outputs": [],
   "source": [
    "RA = catalog.field('ra')\n",
    "DEC = catalog.field('dec')\n",
    "\n",
    "MAG_G = catalog.field('mag_g')\n",
    "MAG_R = catalog.field('mag_r')\n",
    "MAG_I = catalog.field('mag_i')\n",
    "MAG_Z = catalog.field('mag_z')\n",
    "MAGERR_G = catalog.field('magerr_g')\n",
    "MAGERR_R = catalog.field('magerr_r')\n",
    "MAGERR_I = catalog.field('magerr_i')\n",
    "MAGERR_Z = catalog.field('magerr_z')\n",
    "\n",
    "SM_G = catalog.field('smg')\n",
    "SM_R = catalog.field('smr')\n",
    "SM_I = catalog.field('smi')\n",
    "SMERR_G = catalog.field('smgerr')\n",
    "SMERR_R = catalog.field('smrerr')\n",
    "SMERR_I = catalog.field('smierr')\n",
    "\n",
    "hdulist.close()"
   ]
  },
  {
   "cell_type": "markdown",
   "metadata": {},
   "source": [
    "There is something interesting in **astropy.fits.open**. Usually, you open the file, read the columns,\n",
    "and close the file. But when you do that, the file is opened, the columns are not loaded in memory and\n",
    "the file is not closed. That is a trick to _load_ columns very fast. The columns are only read when you\n",
    "apply them, as when you count the elements in _ra_. It may cause problems when you open many files...\n",
    "<br>\n",
    "Now, printing the total number of objects and its limits in RA and DEC:"
   ]
  },
  {
   "cell_type": "code",
   "execution_count": null,
   "metadata": {},
   "outputs": [],
   "source": [
    "print('Total number of objects: ', len(RA))\n",
    "print('RA limits: ', RA.min(), RA.max())\n",
    "print('DEC limits: ', DEC.min(), DEC.max())"
   ]
  },
  {
   "cell_type": "markdown",
   "metadata": {},
   "source": [
    "Let's plot the position of the patch regarding the footprint of the DES. Loadiing the limits of the survey:"
   ]
  },
  {
   "cell_type": "code",
   "execution_count": null,
   "metadata": {},
   "outputs": [],
   "source": [
    "RA_DES, DEC_DES = np.loadtxt('/archive/user/adriano.pieres/des-round17-poly.txt', usecols=(0, 1), unpack=True)"
   ]
  },
  {
   "cell_type": "markdown",
   "metadata": {},
   "source": [
    "and now printing the region and the footprint map:"
   ]
  },
  {
   "cell_type": "code",
   "execution_count": null,
   "metadata": {},
   "outputs": [],
   "source": [
    "# Equatorial Coordinates:\n",
    "plt.scatter(360.-RA, DEC, s=0.01, color='b')\n",
    "plt.grid(True)\n",
    "plt.xlim(RA_DES.max()+3, RA_DES.min()-3)\n",
    "plt.ylim(DEC_DES.min()-3, DEC_DES.max()+3)\n",
    "plt.plot(RA_DES, DEC_DES, 'k')\n",
    "plt.xlabel(r'$\\alpha$(deg)')\n",
    "plt.ylabel(r'$\\delta$(deg)')"
   ]
  },
  {
   "cell_type": "markdown",
   "metadata": {},
   "source": [
    "An equatorial region sampled in Stripe 82.\n",
    "**Star-galaxy classifier**\n",
    "Spread_model is the difference (in magnitudes) between the fit of a PSF and the fit of a\n",
    "PSF convolved with an exponential model. It is a good star-galaxy classifier when the shape\n",
    "of the source is discernible.\n",
    "\n",
    "To evaluate the performance of the spread-model, we plot two color-color diagrams with the \n",
    "help of the CCD function."
   ]
  },
  {
   "cell_type": "code",
   "execution_count": null,
   "metadata": {},
   "outputs": [],
   "source": [
    "def CC(RA_, DEC_, mag1, mag2, mag3, mag4, maglim, mode):\n",
    "    '''\n",
    "    This function is designed for DES data.\n",
    "    - Inputs:\n",
    "    RA: longitude in Equatorial coordinates (array, units: degrees)\n",
    "    DEC: latitude in Equatorial coordinates (array, units: degrees)\n",
    "    magN: magnitude in N band (array)\n",
    "    maglim: limiting magnitude in the first band (g)\n",
    "    mode: 'linear' or 'log' (string)\n",
    "    - Output:\n",
    "    Figure with 2 2D histograms showing the color-color diagrams (g-r x r-i and r-i x i-z)\n",
    "    '''\n",
    "    # First, transform the Eq to Gal coordinates in order to calculate the extinction\n",
    "    c = SkyCoord(ra=RA_ * u.degree, dec=DEC_ * u.degree)\n",
    "    L, B = c.galactic.l.degree, c.galactic.b.degree\n",
    "\n",
    "    bright = (mag1 <= maglim)\n",
    "    L = L[bright]\n",
    "    B = B[bright]\n",
    "    mag1 = mag1[bright]\n",
    "    mag2 = mag2[bright]\n",
    "    mag3 = mag3[bright]\n",
    "    mag4 = mag4[bright]\n",
    "\n",
    "    # remove the extinction in respective band\n",
    "    ngp = fits.open('/archive/external_catalogs/SDSS3/schlegel/schlegel/SFD_dust_4096_ngp.fits')[0].data\n",
    "    sgp = fits.open('/archive/external_catalogs/SDSS3/schlegel/schlegel/SFD_dust_4096_sgp.fits')[0].data\n",
    "\n",
    "    n = np.array(B > 0).astype(int)\n",
    "    n[n == 0] = -1\n",
    "\n",
    "    x = 2048 * n * (1 - (n * np.sin(np.deg2rad(B))) ** 0.5) * np.cos(np.deg2rad(L)) + 2047.5\n",
    "    y = -2048 * n * (1 - (n * np.sin(np.deg2rad(B))) ** 0.5) * np.sin(np.deg2rad(L)) + 2047.5\n",
    "    x, y = np.round(x, 0).astype(int), np.round(y, 0).astype(int)\n",
    "\n",
    "    EBV_SFD98 = np.zeros(len(B))\n",
    "    EBV_SFD98[B > 0] = ngp[y[B > 0], x[B > 0]]\n",
    "    EBV_SFD98[B < 0] = sgp[y[B < 0], x[B < 0]]\n",
    "\n",
    "    AV = 3.1 * EBV_SFD98\n",
    "    AG = 1.17255 * AV\n",
    "    AR = 0.83414 * AV\n",
    "    AI = 0.63700 * AV\n",
    "    AZ = 0.47025 * AV\n",
    "    \n",
    "    mag1 -= AG\n",
    "    mag2 -= AR\n",
    "    mag3 -= AI\n",
    "    mag4 -= AZ\n",
    "\n",
    "    f, ((ax1, ax2)) = plt.subplots(1, 2, figsize=(8, 8), dpi=150)\n",
    "    x = mag1-mag2\n",
    "    y = mag2-mag3\n",
    "    z = mag3-mag4\n",
    "\n",
    "    H, xedges, yedges = np.histogram2d(x, y, bins=200, range=[[-1, 2.2],[-1,2.2]])\n",
    "    ax1.set_title(r'CCD ($g$ - $r$ x $r$ - $i$)', fontsize=10)\n",
    "    ax1.set_xlim([-1, 2.2])\n",
    "    ax1.set_ylim([-1, 2.2])\n",
    "    ax1.set_xlabel(r'$g$ - $r$', fontsize=10)\n",
    "    ax1.set_ylabel(r'$r$ - $i$', fontsize=10)\n",
    "    ax1.grid(True, lw=0.2)\n",
    "    if (mode=='log'):\n",
    "        H[H == 0] = 0.1\n",
    "        im1 = ax1.imshow(np.flipud(H.T), extent=[-1, 2.2, -1, 2.2], aspect='equal', interpolation='None', cmap=cmap, norm=LogNorm(vmin=np.min(H), vmax=np.max(H)))\n",
    "    else:\n",
    "        im1 = ax1.imshow(np.flipud(H.T), extent=[-1, 2.2, -1, 2.2], aspect='equal', interpolation='None', cmap=cmap, vmin=np.min(H), vmax=np.max(H))\n",
    "\n",
    "    G, xedges, yedges = np.histogram2d(y, z, bins=200, range=[[-1, 2.2],[-1,2.2]])\n",
    "    ax2.set_title(r'CCD ($r$ - $i$ x $i$ - $z$)', fontsize=10)\n",
    "    ax2.set_xlim([-1, 2.2])\n",
    "    ax2.set_ylim([-1, 2.2])\n",
    "    ax2.set_xlabel(r'$r$ - $i$', fontsize=10)\n",
    "    ax2.set_ylabel(r'$i$ - $z$', fontsize=10)\n",
    "    ax2.grid(True, lw=0.2)\n",
    "    if (mode=='log'):\n",
    "        G[G == 0] = 0.1\n",
    "        im2 = ax2.imshow(np.flipud(G.T), extent=[-1, 2.2, -1, 2.2], aspect='equal', interpolation='None', cmap=cmap, norm=LogNorm(vmin=np.min(H), vmax=np.max(H)))\n",
    "    else:\n",
    "        im2 = ax2.imshow(np.flipud(G.T), extent=[-1, 2.2, -1, 2.2], aspect='equal', interpolation='None', cmap=cmap, vmin=np.min(H), vmax=np.max(H))\n",
    "\n",
    "    cbaxes = f.add_axes([0.98, 0.3, 0.015, 0.398])\n",
    "    cbar = f.colorbar(im1, cax=cbaxes, cmap=cmap, orientation='vertical')\n",
    "    cbar.ax.set_xticklabels(np.linspace(0., np.max(G), 5),rotation=0, fontsize=8)\n",
    "    plt.tight_layout()\n",
    "    del(RA_, DEC_, L, B, mag1, mag2, mag3, mag4, mode, maglim)"
   ]
  },
  {
   "cell_type": "code",
   "execution_count": null,
   "metadata": {},
   "outputs": [],
   "source": [
    "CC(RA, DEC, MAG_G, MAG_R, MAG_I, MAG_Z, 24., 'log')"
   ]
  },
  {
   "cell_type": "markdown",
   "metadata": {},
   "source": [
    "Clearly the stellar locus and the galaxy locus are overlapping on the color-color diagram. Let's apply the spread-model as SG classifier, defining:"
   ]
  },
  {
   "cell_type": "code",
   "execution_count": null,
   "metadata": {},
   "outputs": [],
   "source": [
    "star = (np.abs(SM_I) <= 0.003)\n",
    "galaxy = ~star"
   ]
  },
  {
   "cell_type": "markdown",
   "metadata": {},
   "source": [
    "The Color-color diagram for stars is:"
   ]
  },
  {
   "cell_type": "code",
   "execution_count": null,
   "metadata": {},
   "outputs": [],
   "source": [
    "CC(RA[star], DEC[star], MAG_G[star], MAG_R[star], MAG_I[star], MAG_Z[star], 24., 'log')"
   ]
  },
  {
   "cell_type": "markdown",
   "metadata": {},
   "source": [
    "and for galaxies:"
   ]
  },
  {
   "cell_type": "code",
   "execution_count": null,
   "metadata": {},
   "outputs": [],
   "source": [
    "CC(RA[galaxy], DEC[galaxy], MAG_G[galaxy], MAG_R[galaxy], MAG_I[galaxy], MAG_Z[galaxy], 24., 'log')"
   ]
  },
  {
   "cell_type": "code",
   "execution_count": null,
   "metadata": {},
   "outputs": [],
   "source": [
    "f, ((ax1, ax2, ax3)) = plt.subplots(1, 3, figsize=(8, 2), sharey=True, dpi=150)\n",
    "\n",
    "ax1.hist2d(MAG_G, SM_I, bins=[200,200], range=[(14,24),(-0.01,0.025)], cmap=cmap, norm=LogNorm())\n",
    "ax1.set_xlabel('MAG_AUTO_G')\n",
    "ax1.set_ylabel('spread_model')\n",
    "\n",
    "ax2.hist2d(MAG_R, SM_R, bins=[200,200], range=[(14,24),(-0.01,0.025)], cmap=cmap, norm=LogNorm())\n",
    "ax2.set_xlabel('MAG_AUTO_R')\n",
    "\n",
    "ax3.hist2d(MAG_I, SM_I, bins=[200,200], range=[(14,24),(-0.01,0.025)], cmap=cmap, norm=LogNorm())\n",
    "ax3.set_xlabel('MAG_AUTO_I')\n",
    "\n",
    "plt.subplots_adjust(wspace=0, hspace=0)"
   ]
  },
  {
   "cell_type": "markdown",
   "metadata": {},
   "source": [
    "It seems that the best work is done by the SM in the ** g ** band instead that in the ** i ** band.\n",
    "Let's plot using as reference the SM in the g band:"
   ]
  },
  {
   "cell_type": "code",
   "execution_count": null,
   "metadata": {},
   "outputs": [],
   "source": [
    "star_g = (np.abs(SM_G) <= 0.002)\n",
    "galaxy_g = ~star_g\n",
    "\n",
    "CC(RA[star_g], DEC[star_g], MAG_G[star_g], MAG_R[star_g], MAG_I[star_g], MAG_Z[star_g], 23., 'log')"
   ]
  },
  {
   "cell_type": "markdown",
   "metadata": {},
   "source": [
    "### Completeness ###"
   ]
  },
  {
   "cell_type": "markdown",
   "metadata": {},
   "source": [
    "In order to check the completeness of the catalog, we compare the DES data to deeper\n",
    "data from Hyper Suprime Camera, installed on Subaru (8m). The fields DEEP2 and DEEP3 were\n",
    "previously stored in the devel environment:"
   ]
  },
  {
   "cell_type": "code",
   "execution_count": null,
   "metadata": {},
   "outputs": [],
   "source": [
    "file_HSC = '/archive/user/adriano.pieres/HSC_data/HSC_DEEP23_VVDS_UDEEP.fits'  \n",
    "hduHSC = fits.open(file_HSC)\n",
    "catalog_HSC = hduHSC[1].data\n",
    "\n",
    "RA_HSC = catalog_HSC.field('ra')\n",
    "DEC_HSC = catalog_HSC.field('dec')\n",
    "MAGG_PSF_HSC = catalog_HSC.field('gmag_psf')\n",
    "MAGR_PSF_HSC = catalog_HSC.field('rmag_psf')\n",
    "MAGI_PSF_HSC = catalog_HSC.field('imag_psf')\n",
    "MAGZ_PSF_HSC = catalog_HSC.field('zmag_psf')\n",
    "ICMODEL_HSC = catalog_HSC.field('icmodel_mag')\n",
    "hduHSC.close()"
   ]
  },
  {
   "cell_type": "markdown",
   "metadata": {},
   "source": [
    "The DEEP2 and 3 uses the ICMODEL, that is similar to spread_model as SG classifier. Let's take a look on the \n",
    "distribution of data regarding magnitude and ICMODEL:"
   ]
  },
  {
   "cell_type": "code",
   "execution_count": null,
   "metadata": {},
   "outputs": [],
   "source": [
    "plt.hist2d(MAGI_PSF_HSC, MAGI_PSF_HSC-ICMODEL_HSC, bins=[200,200], range=[(18.,31.),(-.03,1.)], cmap=cmap, norm=LogNorm())\n",
    "plt.xlabel('MAGG_PSF_HSC')\n",
    "plt.ylabel('ICMODEL_HSC')\n",
    "plt.plot(np.linspace(18.,30.,10), np.repeat(0.03,10), 'b:')"
   ]
  },
  {
   "cell_type": "code",
   "execution_count": null,
   "metadata": {},
   "outputs": [],
   "source": [
    "STAR_HSC = MAGI_PSF_HSC - ICMODEL_HSC < 0.03\n",
    "GALAXY_HSC = MAGI_PSF_HSC - ICMODEL_HSC >= 0.03\n",
    "\n",
    "c_HSC = SkyCoord(ra=RA_HSC * u.degree, dec=DEC_HSC * u.degree)\n",
    "L_HSC, B_HSC = c_HSC.galactic.l.degree, c_HSC.galactic.b.degree"
   ]
  },
  {
   "cell_type": "markdown",
   "metadata": {},
   "source": [
    "To compare the DESDR1 to HSC data, I created a completeness function that works as follows.\n",
    "The footprint of both survey are mapped, and an intersection between then is defined. Based\n",
    "on the intersection map, the object's counts are compared."
   ]
  },
  {
   "cell_type": "code",
   "execution_count": null,
   "metadata": {},
   "outputs": [],
   "source": [
    "def Compl(data1, data2, magmin, magmax, binmag, title, nside=512):\n",
    "    '''\n",
    "    - Input data:\n",
    "    data1 = np.stack((RA,\n",
    "                      DEC,\n",
    "                      MAGG,\n",
    "                      MAGR,\n",
    "                      MAGG,\n",
    "                      MAGR), axis=0)\n",
    "    data2 has similar format, but for second survey, obviously\n",
    "    magmin, magmax, binmag: limiting magnitudes and magnitude bin(floats)\n",
    "    title: (string)\n",
    "    nside: HealPix nside (2^N, from 2^0 to 2^30). Nside = 512 produces a pixel with side = 7 arcmin.\n",
    "    Click on the blue bar on the left to collapse this cell. (Amazing!)\n",
    "    '''\n",
    "    # Footprint map of the first survey\n",
    "    HPX1 = hp.ang2pix(nside, np.pi / 2. - np.radians(data1[1][:]), np.radians(data1[0][:]), nest=True)\n",
    "    # Same for the second survey\n",
    "    HPX2 = hp.ang2pix(nside, np.pi / 2. - np.radians(data2[1][:]), np.radians(data2[0][:]), nest=True)\n",
    "\n",
    "    # Creating an array with unique pixels\n",
    "    HPX1_un = np.unique(HPX1)\n",
    "    HPX2_un = np.unique(HPX2)\n",
    "\n",
    "    # Determining the intersection between both maps\n",
    "    HPX_intersec = np.intersect1d(HPX1_un, HPX2_un)\n",
    "\n",
    "    # Creating an identifier to each survey\n",
    "    idx1 = [i for i, e in enumerate(HPX1) if e in HPX_intersec]\n",
    "    idx2 = [i for i, e in enumerate(HPX2) if e in HPX_intersec]\n",
    "    \n",
    "    # Histogram of each magnitude (griz) for both surveys\n",
    "    g1_n, g1_xbins, g1_ybins = plt.hist(data1[2][idx1], bins=np.arange(magmin,magmax,binmag), log=False)\n",
    "    r1_n, r1_xbins, r1_ybins = plt.hist(data1[3][idx1], bins=np.arange(magmin,magmax,binmag), log=False)\n",
    "    i1_n, i1_xbins, i1_ybins = plt.hist(data1[4][idx1], bins=np.arange(magmin,magmax,binmag), log=False)\n",
    "    z1_n, z1_xbins, z1_ybins = plt.hist(data1[5][idx1], bins=np.arange(magmin,magmax,binmag), log=False)\n",
    "\n",
    "    g2_n, g2_xbins, g2_ybins = plt.hist(data2[2][idx2], bins=np.arange(magmin,magmax,binmag), log=False)\n",
    "    r2_n, r2_xbins, r2_ybins = plt.hist(data2[3][idx2], bins=np.arange(magmin,magmax,binmag), log=False)\n",
    "    i2_n, i2_xbins, i2_ybins = plt.hist(data2[4][idx2], bins=np.arange(magmin,magmax,binmag), log=False)\n",
    "    z2_n, z2_xbins, z2_ybins = plt.hist(data2[5][idx2], bins=np.arange(magmin,magmax,binmag), log=False)\n",
    "    \n",
    "    # The errors implied in the histograms\n",
    "    g1_less = g1_n - np.sqrt(g1_n)\n",
    "    g1_more = g1_n + np.sqrt(g1_n)\n",
    "    r1_less = r1_n - np.sqrt(r1_n)\n",
    "    r1_more = r1_n + np.sqrt(r1_n)\n",
    "    i1_less = i1_n - np.sqrt(i1_n)\n",
    "    i1_more = i1_n + np.sqrt(i1_n)\n",
    "    z1_less = z1_n - np.sqrt(z1_n)\n",
    "    z1_more = z1_n + np.sqrt(z1_n)\n",
    "\n",
    "    plt.clf()\n",
    "    \n",
    "    comp_g = g1_n/g2_n; comp_r = r1_n/r2_n; comp_i = i1_n/i2_n; comp_z = z1_n/z2_n\n",
    "    comp_g_less = g1_less/g2_n\n",
    "    comp_r_less = r1_less/r2_n\n",
    "    comp_i_less = i1_less/i2_n\n",
    "    comp_z_less = z1_less/z2_n\n",
    "    comp_g_more = g1_more/g2_n\n",
    "    comp_r_more = r1_more/r2_n\n",
    "    comp_i_more = i1_more/i2_n\n",
    "    comp_z_more = z1_more/z2_n\n",
    "\n",
    "    # Feel free to force completeness to 1 regarding the second survey\n",
    "    #comp_g[comp_g >1.] = 1.;\n",
    "    comp_g[(g1_n == 0.)] = 0\n",
    "    #comp_r[comp_r >1.] = 1.;\n",
    "    comp_r[(r1_n == 0.)] = 0\n",
    "    #comp_i[comp_i >1.] = 1.;\n",
    "    comp_i[(i1_n == 0.)] = 0\n",
    "    #comp_z[comp_z >1.] = 1.;\n",
    "    comp_z[(z1_n == 0.)] = 0\n",
    "\n",
    "    #comp_g_less[comp_g_less > 1.] = 1.;\n",
    "    comp_g_less[(g1_n == 0.)|(g2_n == 0.)] = 0\n",
    "    #comp_r_less[comp_r_less > 1.] = 1.;\n",
    "    comp_r_less[(r1_n == 0.)|(r2_n == 0.)] = 0\n",
    "    #comp_i_less[comp_i_less > 1.] = 1.;\n",
    "    comp_i_less[(i1_n == 0.)|(i2_n == 0.)] = 0\n",
    "    #comp_z_less[comp_z_less > 1.] = 1.;\n",
    "    comp_z_less[(z1_n == 0.)|(z2_n == 0.)] = 0\n",
    "\n",
    "    #comp_g_more[comp_g_more > 1.] = 1.;\n",
    "    comp_g_more[(g1_n == 0.)|(g2_n == 0.)] = 0\n",
    "    #comp_r_more[comp_r_more > 1.] = 1.;\n",
    "    comp_r_more[(r1_n == 0.)|(r2_n == 0.)] = 0\n",
    "    #comp_i_more[comp_i_more > 1.] = 1.;\n",
    "    comp_i_more[(i1_n == 0.)|(i2_n == 0.)] = 0\n",
    "    #comp_z_more[comp_z_more > 1.] = 1.;\n",
    "    comp_z_more[(z1_n == 0.)|(z2_n == 0.)] = 0\n",
    "    \n",
    "    # Plotting completenesses in same figure\n",
    "    fig, ((ax1, ax2), (ax3, ax4)) = plt.subplots(2, 2, sharex=True, sharey=True)\n",
    "    ax1.plot(g1_xbins[:-1], comp_g, color='g', lw=1, label='g')\n",
    "    ax1.set_ylabel('ratio')\n",
    "    ax3.set_ylabel('ratio')\n",
    "    ax3.set_xlabel('magnitude')\n",
    "    ax4.set_xlabel('magnitude')\n",
    "    ax2.plot(g1_xbins[:-1], comp_r, color='r', lw=1, label='r')\n",
    "    ax3.plot(g1_xbins[:-1], comp_i, color='maroon', lw=1, label='i')\n",
    "    ax4.plot(g1_xbins[:-1], comp_z, color='k', lw=1, label='z')\n",
    "    ax1.legend()\n",
    "    ax2.legend()\n",
    "    ax3.legend()\n",
    "    ax4.legend()\n",
    "    ax1.grid(True, lw=0.2)\n",
    "    ax2.grid(True, lw=0.2)\n",
    "    ax3.grid(True, lw=0.2)\n",
    "    ax4.grid(True, lw=0.2)\n",
    "    ax1.fill_between(g1_xbins[:-1], comp_g_more, comp_g_less, facecolor='aquamarine')\n",
    "    ax2.fill_between(g1_xbins[:-1], comp_r_more, comp_r_less, facecolor='bisque')\n",
    "    ax3.fill_between(g1_xbins[:-1], comp_i_more, comp_i_less, facecolor='lavender')\n",
    "    ax4.fill_between(g1_xbins[:-1], comp_z_more, comp_z_less, facecolor='honeydew')\n",
    "    ax1.set_ylim([0.,3.])\n",
    "    ax1.set_xlim([magmin, magmax])\n",
    "    plt.legend()\n",
    "    plt.suptitle(title)\n",
    "    plt.grid(True)\n",
    "    plt.subplots_adjust(hspace=0.0, wspace=0.0)"
   ]
  },
  {
   "cell_type": "markdown",
   "metadata": {},
   "source": [
    "Applying this function to DES and HSC data:"
   ]
  },
  {
   "cell_type": "code",
   "execution_count": null,
   "metadata": {},
   "outputs": [],
   "source": [
    "data_DES_star = np.stack((RA[star],\n",
    "                         DEC[star],\n",
    "                         MAG_G[star],\n",
    "                         MAG_R[star],\n",
    "                         MAG_I[star],\n",
    "                         MAG_Z[star]), axis=0)\n",
    "data_HSC_star = np.stack((RA_HSC[(STAR_HSC)],\n",
    "                         DEC_HSC[(STAR_HSC)],\n",
    "                         MAGG_PSF_HSC[(STAR_HSC)],\n",
    "                         MAGR_PSF_HSC[(STAR_HSC)],\n",
    "                         MAGI_PSF_HSC[(STAR_HSC)],\n",
    "                         MAGZ_PSF_HSC[(STAR_HSC)]), axis=0)"
   ]
  },
  {
   "cell_type": "code",
   "execution_count": null,
   "metadata": {},
   "outputs": [],
   "source": [
    "Compl(data_DES_star, data_HSC_star, 19., 26.2, 0.2, 'Star (complete) ratio DESDR1/HSC', 1024)"
   ]
  },
  {
   "cell_type": "code",
   "execution_count": null,
   "metadata": {},
   "outputs": [],
   "source": [
    "data_DES_galaxy = np.stack((RA[galaxy],\n",
    "                         DEC[galaxy],\n",
    "                         MAG_G[galaxy],\n",
    "                         MAG_R[galaxy],\n",
    "                         MAG_I[galaxy],\n",
    "                         MAG_Z[galaxy]), axis=0)\n",
    "data_HSC_galaxy = np.stack((RA_HSC[(GALAXY_HSC)],\n",
    "                         DEC_HSC[(GALAXY_HSC)],\n",
    "                         MAGG_PSF_HSC[(GALAXY_HSC)],\n",
    "                         MAGR_PSF_HSC[(GALAXY_HSC)],\n",
    "                         MAGI_PSF_HSC[(GALAXY_HSC)],\n",
    "                         MAGZ_PSF_HSC[(GALAXY_HSC)]), axis=0)"
   ]
  },
  {
   "cell_type": "code",
   "execution_count": null,
   "metadata": {},
   "outputs": [],
   "source": [
    "Compl(data_DES_galaxy, data_HSC_galaxy, 19., 26.2, 0.2, 'Galaxy (complete) ratio DESDR1/HSC', 1024)"
   ]
  },
  {
   "cell_type": "markdown",
   "metadata": {},
   "source": [
    "### PanStaRRS\n",
    "<br>\n",
    "An astrometric comparison to PanStaRRs can be done here. Files with PanStaRRs stars (sorry!) are stored\n",
    "in the LIneA's machine. The files are stored in HealPix pixels, with nside=32 and nest=True. Follow\n",
    "the link below to find the files."
   ]
  },
  {
   "cell_type": "code",
   "execution_count": null,
   "metadata": {},
   "outputs": [],
   "source": [
    "HPX32 = hp.ang2pix(32, np.pi / 2. - np.radians(DEC), np.radians(RA), nest=True)\n",
    "HPX32_un = np.unique(HPX32)\n",
    "\n",
    "RA_PS_, DEC_PS_, GFPSFMAG_PS_, RFPSFMAG_PS_, IFPSFMAG_PS_, GFPSFMAGERR_PS_, \\\n",
    "RFPSFMAGERR_PS_, IFPSFMAGERR_PS_ = [], [], [], [], [], [], [], []\n",
    "\n",
    "for i in range(len(HPX32_un)):\n",
    "    try:\n",
    "        PS_file = '/archive/external_catalogs/PANSTARRS/healpix/32/'+str(np.int(HPX32_un[i]))+'.fits'\n",
    "        hdu = fits.open(PS_file)\n",
    "        PS_cat = hdu[1].data\n",
    "        RA_PS = PS_cat.field('RA')\n",
    "        DEC_PS = PS_cat.field('DEC')\n",
    "        GFPSFMAG_PS = PS_cat.field('GFPSFMAG')\n",
    "        RFPSFMAG_PS = PS_cat.field('RFPSFMAG')\n",
    "        IFPSFMAG_PS = PS_cat.field('IFPSFMAG')\n",
    "        GFPSFMAGERR_PS = PS_cat.field('GFPSFMAGERR')\n",
    "        RFPSFMAGERR_PS = PS_cat.field('RFPSFMAGERR')\n",
    "        IFPSFMAGERR_PS = PS_cat.field('IFPSFMAGERR')\n",
    "        hdu.close()\n",
    "        RA_PS_.append(RA_PS)\n",
    "        DEC_PS_.append(DEC_PS)\n",
    "        GFPSFMAG_PS_.append(GFPSFMAG_PS)\n",
    "        RFPSFMAG_PS_.append(RFPSFMAG_PS)\n",
    "        IFPSFMAG_PS_.append(IFPSFMAG_PS)\n",
    "        GFPSFMAGERR_PS_.append(GFPSFMAGERR_PS)\n",
    "        RFPSFMAGERR_PS_.append(RFPSFMAGERR_PS)\n",
    "        IFPSFMAGERR_PS_.append(IFPSFMAGERR_PS)\n",
    "        print('This HPixel '+str(HPX32_un[i])+' was sampled by Panstarrs.')\n",
    "    except:\n",
    "        print('This HPixel '+str(HPX32_un[i])+' was not sampled by Panstarrs.')"
   ]
  },
  {
   "cell_type": "markdown",
   "metadata": {},
   "source": [
    "And since you upload these quantities in the system, you are able to compare both surveys,\n",
    "in the same way as we have done before."
   ]
  },
  {
   "cell_type": "markdown",
   "metadata": {},
   "source": [
    "### 2MASS ###\n",
    "<br>\n",
    "* Astrometric comparison *\n",
    "<br>\n",
    "Firstly, downloading the data. From IRSA the single option is a Cone Radius (see https://irsa.ipac.caltech.edu/docs/howto/gator_prog_interface.html).\n",
    "Let's estimate this Cone Radius by the range in declination, minding the maximum is one degree:"
   ]
  },
  {
   "cell_type": "code",
   "execution_count": null,
   "metadata": {},
   "outputs": [],
   "source": [
    "cone_radius = min(0.5 * (DEC.max() - DEC.min()), 1.)"
   ]
  },
  {
   "cell_type": "markdown",
   "metadata": {},
   "source": [
    "Now, downloading data from IRSA/IPAC/CALTECH. This command has a limit for the ConeRadius not informed in the help page. Also, bear in mind that this command would be done only in the first time. After that, comment this line."
   ]
  },
  {
   "cell_type": "code",
   "execution_count": null,
   "metadata": {},
   "outputs": [],
   "source": [
    "os.system('wget \"http://irsa.ipac.caltech.edu/cgi-bin/Gator/nph-query?outfmt=1&objstr=\"'\\\n",
    "          +str(round(np.mean(RA),5))+'+'+str(round(np.mean(DEC),5))\\\n",
    "          +'\"&spatial=Cone&radius='+str(cone_radius*3600)+'&catalog=fp_psc\" -O CAT_2MASS.tbl')"
   ]
  },
  {
   "cell_type": "code",
   "execution_count": null,
   "metadata": {},
   "outputs": [],
   "source": [
    "RA_TWOMASS, DEC_TWOMASS = np.loadtxt('CAT_2MASS.tbl', skiprows=103, usecols=(0,1,), dtype=float, unpack=True)"
   ]
  },
  {
   "cell_type": "markdown",
   "metadata": {},
   "source": [
    "If you are interested in match those stars, you this astropy tool is very interesting to you:"
   ]
  },
  {
   "cell_type": "code",
   "execution_count": null,
   "metadata": {},
   "outputs": [],
   "source": [
    "DES_CAT = SkyCoord(ra=RA*u.degree, dec=DEC*u.degree)\n",
    "TWOMASS_CAT = SkyCoord(ra=RA_TWOMASS*u.degree, dec=DEC_TWOMASS*u.degree)\n",
    "\n",
    "id_TWOMASS_DES, d2d_DES, d3d = DES_CAT.match_to_catalog_sky(TWOMASS_CAT)\n",
    "id_DES_TWOMASS, d2d_TWOMASS, d3d = TWOMASS_CAT.match_to_catalog_sky(DES_CAT)\n",
    "\n",
    "# Converting d2d distances from deg into arcsecs for sources closer than 1 arcsec:\n",
    "sep_arcsec = d2d_DES.arcsecond[d2d_DES.arcsecond <= 1.0]"
   ]
  },
  {
   "cell_type": "code",
   "execution_count": null,
   "metadata": {},
   "outputs": [],
   "source": [
    "a = plt.hist(sep_arcsec, bins=np.arange(0,1,0.01),\n",
    "             color='b', alpha = 0.75, lw=2., histtype='step', log=False,\n",
    "             label=str(\"\"\"Mean: {0:4.0f} mas\"\"\".format(1000*np.mean(sep_arcsec))))\n",
    "plt.ylabel('N')\n",
    "plt.title('2MASS x DESDR1 angular separation')\n",
    "plt.ylim([1,1.1*np.max(a[0])])\n",
    "plt.xlabel('separation (arcsec)')\n",
    "plt.legend()"
   ]
  },
  {
   "cell_type": "code",
   "execution_count": null,
   "metadata": {},
   "outputs": [],
   "source": []
  }
 ],
 "metadata": {
  "kernelspec": {
   "display_name": "science",
   "language": "python",
   "name": "science"
  },
  "language_info": {
   "codemirror_mode": {
    "name": "ipython",
    "version": 3
   },
   "file_extension": ".py",
   "mimetype": "text/x-python",
   "name": "python",
   "nbconvert_exporter": "python",
   "pygments_lexer": "ipython3",
   "version": "3.6.8"
  }
 },
 "nbformat": 4,
 "nbformat_minor": 2
}
